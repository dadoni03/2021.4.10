{
 "cells": [
  {
   "cell_type": "code",
   "execution_count": 1,
   "id": "50392101-ccff-439b-9095-a978a8cb1d5b",
   "metadata": {},
   "outputs": [],
   "source": [
    "import numpy as np\n",
    "import matplotlib.pyplot as plt \n",
    "import sklearn.cluster \n",
    "import numpy as np\n",
    "import scipy.ndimage as ndimage\n",
    "import matplotlib.pyplot as plt\n"
   ]
  },
  {
   "cell_type": "code",
   "execution_count": 2,
   "id": "d54953f4-974a-4907-a964-87bc81c054a7",
   "metadata": {},
   "outputs": [
    {
     "name": "stdout",
     "output_type": "stream",
     "text": [
      "[(1, 1), (1, 2), (1, 3), (1, 4), (1, 8), (1, 9), (2, 2), (2, 3), (2, 4), (2, 6), (2, 7), (2, 8), (2, 9), (3, 2), (3, 3), (3, 6), (3, 7), (3, 8), (3, 9), (4, 1), (4, 2), (4, 3), (4, 6), (4, 7), (4, 8), (5, 8), (6, 3), (6, 4), (6, 5), (7, 3), (7, 4), (7, 5), (7, 6), (8, 3), (8, 4), (8, 5), (8, 6), (9, 6)]\n"
     ]
    }
   ],
   "source": [
    "X=[]     #######資料點輸入\n",
    "Y=[]\n",
    "Dot=[]\n",
    "Dots=list(((1,1),(1,2),(1,3),(1,4),(1,8),(1,9),(2,2),(2,3),(2,4),(2,6),(2,7),(2,8),(2,9),(3,2),(3,3),(3,6),(3,7),(3,8),(3,9),(4,1),(4,2),(4,3),(4,6),(4,7),(4,8),(5,8),(6,3),(6,4),(6,5),(7,3),(7,4),(7,5),(7,6),(8,3),(8,4),(8,5),(8,6),(9,6)))\n",
    "print(Dots)"
   ]
  },
  {
   "cell_type": "code",
   "execution_count": 3,
   "id": "2bdf01b3-3963-4a30-8dc0-76803b118184",
   "metadata": {},
   "outputs": [
    {
     "name": "stdout",
     "output_type": "stream",
     "text": [
      "[[1 1]\n",
      " [1 2]\n",
      " [1 3]\n",
      " [1 4]\n",
      " [1 8]\n",
      " [1 9]\n",
      " [2 2]\n",
      " [2 3]\n",
      " [2 4]\n",
      " [2 6]\n",
      " [2 7]\n",
      " [2 8]\n",
      " [2 9]\n",
      " [3 2]\n",
      " [3 3]\n",
      " [3 6]\n",
      " [3 7]\n",
      " [3 8]\n",
      " [3 9]\n",
      " [4 1]\n",
      " [4 2]\n",
      " [4 3]\n",
      " [4 6]\n",
      " [4 7]\n",
      " [4 8]\n",
      " [5 8]\n",
      " [6 3]\n",
      " [6 4]\n",
      " [6 5]\n",
      " [7 3]\n",
      " [7 4]\n",
      " [7 5]\n",
      " [7 6]\n",
      " [8 3]\n",
      " [8 4]\n",
      " [8 5]\n",
      " [8 6]\n",
      " [9 6]]\n"
     ]
    },
    {
     "data": {
      "text/plain": [
       "KMeans(n_clusters=3)"
      ]
     },
     "execution_count": 3,
     "metadata": {},
     "output_type": "execute_result"
    }
   ],
   "source": [
    "K=np.array(Dots)  \n",
    "print(K)\n",
    "kmeans=sklearn.cluster.KMeans(3) ########## kmean 分群 \n",
    "kmeans.fit(K)"
   ]
  },
  {
   "cell_type": "code",
   "execution_count": 4,
   "id": "a47bf611-05f7-4ff5-8299-d88ded4c66b9",
   "metadata": {},
   "outputs": [
    {
     "name": "stdout",
     "output_type": "stream",
     "text": [
      "[2 2 2 2 1 1 2 2 2 1 1 1 1 2 2 1 1 1 1 2 2 2 1 1 1 1 0 0 0 0 0 0 0 0 0 0 0\n",
      " 0]\n"
     ]
    },
    {
     "data": {
      "text/plain": [
       "array([2, 2, 2, 2, 1, 1, 2, 2, 2, 1, 1, 1, 1, 2, 2, 1, 1, 1, 1, 2, 2, 2,\n",
       "       1, 1, 1, 1, 0, 0, 0, 0, 0, 0, 0, 0, 0, 0, 0, 0])"
      ]
     },
     "execution_count": 4,
     "metadata": {},
     "output_type": "execute_result"
    }
   ],
   "source": [
    "c=kmeans.predict(K) #######確定分群結果\n",
    "print(c)\n",
    "kmeans.labels_   "
   ]
  },
  {
   "cell_type": "code",
   "execution_count": 5,
   "id": "4d863f1e-6252-4180-952a-bfc5b06f5a88",
   "metadata": {},
   "outputs": [
    {
     "name": "stdout",
     "output_type": "stream",
     "text": [
      "{'2': [], '1': [], '0': []}\n"
     ]
    },
    {
     "data": {
      "text/plain": [
       "{'2': [0, 1, 2, 3, 6, 7, 8, 13, 14, 19, 20, 21],\n",
       " '1': [4, 5, 9, 10, 11, 12, 15, 16, 17, 18, 22, 23, 24, 25],\n",
       " '0': [26, 27, 28, 29, 30, 31, 32, 33, 34, 35, 36, 37]}"
      ]
     },
     "execution_count": 5,
     "metadata": {},
     "output_type": "execute_result"
    }
   ],
   "source": [
    "D=dict()        #############編輯成Dic 方便資料選取\n",
    "for i in kmeans.labels_:\n",
    "    D[str(i)]=[]\n",
    "print(D)\n",
    "for i in range(len(kmeans.labels_)):\n",
    "    if(str(kmeans.labels_[i]) in D.keys()):\n",
    "        D[str(kmeans.labels_[i])].append(i)\n",
    "D"
   ]
  },
  {
   "cell_type": "code",
   "execution_count": 6,
   "id": "02a704d6-7abb-4268-a11e-89f5d11b0bae",
   "metadata": {},
   "outputs": [
    {
     "name": "stdout",
     "output_type": "stream",
     "text": [
      "[[0, 1, 2, 3, 6, 7, 8, 13, 14, 19, 20, 21], [4, 5, 9, 10, 11, 12, 15, 16, 17, 18, 22, 23, 24, 25], [26, 27, 28, 29, 30, 31, 32, 33, 34, 35, 36, 37]]\n"
     ]
    }
   ],
   "source": [
    "\n",
    "lst = list(D.values())\n",
    "print(lst)\n"
   ]
  },
  {
   "cell_type": "code",
   "execution_count": 7,
   "id": "179768d7-be13-46f9-b52d-fa3ae762da58",
   "metadata": {
    "scrolled": true,
    "tags": []
   },
   "outputs": [
    {
     "name": "stdout",
     "output_type": "stream",
     "text": [
      "[[0. 0. 0. 0. 0. 0. 0. 0. 0. 0.]\n",
      " [0. 1. 1. 1. 1. 0. 0. 0. 0. 0.]\n",
      " [0. 0. 1. 1. 1. 0. 0. 0. 0. 0.]\n",
      " [0. 0. 1. 1. 0. 0. 0. 0. 0. 0.]\n",
      " [0. 1. 1. 1. 0. 0. 0. 0. 0. 0.]\n",
      " [0. 0. 0. 0. 0. 0. 0. 0. 0. 0.]\n",
      " [0. 0. 0. 0. 0. 0. 0. 0. 0. 0.]\n",
      " [0. 0. 0. 0. 0. 0. 0. 0. 0. 0.]\n",
      " [0. 0. 0. 0. 0. 0. 0. 0. 0. 0.]\n",
      " [0. 0. 0. 0. 0. 0. 0. 0. 0. 0.]] island size 12.0\n"
     ]
    },
    {
     "data": {
      "image/png": "[encoded data removed]",
      "text/plain": [
       "<Figure size 432x288 with 1 Axes>"
      ]
     },
     "metadata": {
      "needs_background": "light"
     },
     "output_type": "display_data"
    },
    {
     "name": "stdout",
     "output_type": "stream",
     "text": [
      "[[0. 0. 0. 0. 0. 0. 0. 0. 0. 0.]\n",
      " [0. 0. 0. 0. 0. 0. 0. 0. 1. 1.]\n",
      " [0. 0. 0. 0. 0. 0. 1. 1. 1. 1.]\n",
      " [0. 0. 0. 0. 0. 0. 1. 1. 1. 1.]\n",
      " [0. 0. 0. 0. 0. 0. 1. 1. 1. 0.]\n",
      " [0. 0. 0. 0. 0. 0. 0. 0. 1. 0.]\n",
      " [0. 0. 0. 0. 0. 0. 0. 0. 0. 0.]\n",
      " [0. 0. 0. 0. 0. 0. 0. 0. 0. 0.]\n",
      " [0. 0. 0. 0. 0. 0. 0. 0. 0. 0.]\n",
      " [0. 0. 0. 0. 0. 0. 0. 0. 0. 0.]] island size 14.0\n"
     ]
    },
    {
     "data": {
      "image/png": "[encoded data removed]",
      "text/plain": [
       "<Figure size 432x288 with 1 Axes>"
      ]
     },
     "metadata": {
      "needs_background": "light"
     },
     "output_type": "display_data"
    },
    {
     "name": "stdout",
     "output_type": "stream",
     "text": [
      "[[0. 0. 0. 0. 0. 0. 0. 0. 0. 0.]\n",
      " [0. 0. 0. 0. 0. 0. 0. 0. 0. 0.]\n",
      " [0. 0. 0. 0. 0. 0. 0. 0. 0. 0.]\n",
      " [0. 0. 0. 0. 0. 0. 0. 0. 0. 0.]\n",
      " [0. 0. 0. 0. 0. 0. 0. 0. 0. 0.]\n",
      " [0. 0. 0. 0. 0. 0. 0. 0. 0. 0.]\n",
      " [0. 0. 0. 1. 1. 1. 0. 0. 0. 0.]\n",
      " [0. 0. 0. 1. 1. 1. 1. 0. 0. 0.]\n",
      " [0. 0. 0. 1. 1. 1. 1. 0. 0. 0.]\n",
      " [0. 0. 0. 0. 0. 0. 1. 0. 0. 0.]] island size 12.0\n"
     ]
    },
    {
     "data": {
      "image/png": "[encoded data removed]",
      "text/plain": [
       "<Figure size 432x288 with 1 Axes>"
      ]
     },
     "metadata": {
      "needs_background": "light"
     },
     "output_type": "display_data"
    }
   ],
   "source": [
    "\n",
    "for pp in range(0,3):        ###############分幾群要調到幾(,X)\n",
    "    c1=np.zeros((10, 10))\n",
    "    for b1 in lst[pp]:\n",
    "        x=Dots[b1][0]\n",
    "        y=Dots[b1][1]\n",
    "        c1[x][y]=1\n",
    "    print(c1,'island size',c1.sum()) ,plt.imshow(c1,cmap='gray_r')\n",
    "    plt.show()\n",
    "    "
   ]
  },
  {
   "cell_type": "code",
   "execution_count": null,
   "id": "b29bb8a7-3800-4d57-9622-a4c682e3f632",
   "metadata": {},
   "outputs": [],
   "source": []
  }
 ],
 "metadata": {
  "kernelspec": {
   "display_name": "Python 3",
   "language": "python",
   "name": "python3"
  },
  "language_info": {
   "codemirror_mode": {
    "name": "ipython",
    "version": 3
   },
   "file_extension": ".py",
   "mimetype": "text/x-python",
   "name": "python",
   "nbconvert_exporter": "python",
   "pygments_lexer": "ipython3",
   "version": "3.8.8"
  }
 },
 "nbformat": 4,
 "nbformat_minor": 5
}
